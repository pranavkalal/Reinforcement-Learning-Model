{
  "nbformat": 4,
  "nbformat_minor": 0,
  "metadata": {
    "colab": {
      "provenance": [],
      "toc_visible": true,
      "authorship_tag": "ABX9TyPjb6hvAo1IBHPvltDpItcC",
      "include_colab_link": true
    },
    "kernelspec": {
      "name": "python3",
      "display_name": "Python 3"
    }
  },
  "cells": [
    {
      "cell_type": "markdown",
      "metadata": {
        "id": "view-in-github",
        "colab_type": "text"
      },
      "source": [
        "<a href=\"https://colab.research.google.com/github/pranavkalal/Reinforcement-Learning-Model/blob/main/Linear_regression.ipynb\" target=\"_parent\"><img src=\"https://colab.research.google.com/assets/colab-badge.svg\" alt=\"Open In Colab\"/></a>"
      ]
    },
    {
      "cell_type": "markdown",
      "metadata": {
        "id": "pNyTjEp7g3Tg"
      },
      "source": [
        "\n",
        "# Predicting Stock Prices with Linear Regression"
      ]
    },
    {
      "cell_type": "code",
      "metadata": {
        "id": "ZXwCtkev9STJ"
      },
      "source": [
        "#install dependecies\n",
        "import pandas as pd\n",
        "import numpy as np\n",
        "from sklearn.tree import DecisionTreeRegressor\n",
        "from sklearn.linear_model import LinearRegression\n",
        "from sklearn.model_selection import train_test_split\n",
        "from sklearn import metrics"
      ],
      "execution_count": null,
      "outputs": []
    },
    {
      "cell_type": "code",
      "metadata": {
        "id": "jnk386Fp_IVO"
      },
      "source": [
        "import matplotlib.pyplot as plt\n",
        "from matplotlib import style\n",
        "#style.use('ggplot')\n",
        "style.use('bmh')"
      ],
      "execution_count": null,
      "outputs": []
    },
    {
      "cell_type": "markdown",
      "metadata": {
        "id": "ExP9A9tTfB0E"
      },
      "source": [
        "### LOADING THE DATASET"
      ]
    },
    {
      "cell_type": "code",
      "metadata": {
        "id": "UFWq2LZYD6u-",
        "colab": {
          "resources": {
            "http://localhost:8080/nbextensions/google.colab/files.js": {
              "data": "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",
              "ok": true,
              "headers": [
                [
                  "content-type",
                  "application/javascript"
                ]
              ],
              "status": 200,
              "status_text": ""
            }
          },
          "base_uri": "https://localhost:8080/",
          "height": 73
        },
        "outputId": "12316871-7504-42c8-fbe3-7a98006b6aac"
      },
      "source": [
        "#LOAD CSV FILE \n",
        "from google.colab import files \n",
        "  \n",
        "uploaded = files.upload()\n",
        "  #importing dataset from the drive"
      ],
      "execution_count": null,
      "outputs": [
        {
          "output_type": "display_data",
          "data": {
            "text/html": [
              "\n",
              "     <input type=\"file\" id=\"files-426bad10-f9d5-4bc4-a185-561d09e30b07\" name=\"files[]\" multiple disabled\n",
              "        style=\"border:none\" />\n",
              "     <output id=\"result-426bad10-f9d5-4bc4-a185-561d09e30b07\">\n",
              "      Upload widget is only available when the cell has been executed in the\n",
              "      current browser session. Please rerun this cell to enable.\n",
              "      </output>\n",
              "      <script src=\"/nbextensions/google.colab/files.js\"></script> "
            ],
            "text/plain": [
              "<IPython.core.display.HTML object>"
            ]
          },
          "metadata": {
            "tags": []
          }
        },
        {
          "output_type": "stream",
          "text": [
            "Saving google_2014.csv to google_2014.csv\n"
          ],
          "name": "stdout"
        }
      ]
    },
    {
      "cell_type": "code",
      "metadata": {
        "id": "xg1MKI6fBe0y"
      },
      "source": [
        "dataset = pd.read_csv('google_2014.csv')\n",
        "##replace datafile.csv with your csv file"
      ],
      "execution_count": null,
      "outputs": []
    },
    {
      "cell_type": "markdown",
      "metadata": {
        "id": "vgUxQCevfKma"
      },
      "source": [
        "### DATASET DEFINITION"
      ]
    },
    {
      "cell_type": "code",
      "metadata": {
        "id": "1XeQTroSFVD1",
        "colab": {
          "base_uri": "https://localhost:8080/",
          "height": 284
        },
        "outputId": "5bcbd748-8975-45d7-cf5a-adb0e50415a1"
      },
      "source": [
        "dataset.describe()\n",
        "#describing the dataset"
      ],
      "execution_count": null,
      "outputs": [
        {
          "output_type": "execute_result",
          "data": {
            "text/html": [
              "<div>\n",
              "<style scoped>\n",
              "    .dataframe tbody tr th:only-of-type {\n",
              "        vertical-align: middle;\n",
              "    }\n",
              "\n",
              "    .dataframe tbody tr th {\n",
              "        vertical-align: top;\n",
              "    }\n",
              "\n",
              "    .dataframe thead th {\n",
              "        text-align: right;\n",
              "    }\n",
              "</style>\n",
              "<table border=\"1\" class=\"dataframe\">\n",
              "  <thead>\n",
              "    <tr style=\"text-align: right;\">\n",
              "      <th></th>\n",
              "      <th>Unnamed: 0</th>\n",
              "      <th>Open</th>\n",
              "      <th>High</th>\n",
              "      <th>Low</th>\n",
              "      <th>Close</th>\n",
              "      <th>Volume</th>\n",
              "    </tr>\n",
              "  </thead>\n",
              "  <tbody>\n",
              "    <tr>\n",
              "      <th>count</th>\n",
              "      <td>194.000000</td>\n",
              "      <td>194.000000</td>\n",
              "      <td>194.000000</td>\n",
              "      <td>194.000000</td>\n",
              "      <td>194.000000</td>\n",
              "      <td>1.940000e+02</td>\n",
              "    </tr>\n",
              "    <tr>\n",
              "      <th>mean</th>\n",
              "      <td>96.500000</td>\n",
              "      <td>3.625309</td>\n",
              "      <td>3.681959</td>\n",
              "      <td>3.565722</td>\n",
              "      <td>3.617732</td>\n",
              "      <td>2.315391e+07</td>\n",
              "    </tr>\n",
              "    <tr>\n",
              "      <th>std</th>\n",
              "      <td>56.147128</td>\n",
              "      <td>0.644966</td>\n",
              "      <td>0.652331</td>\n",
              "      <td>0.641441</td>\n",
              "      <td>0.650250</td>\n",
              "      <td>2.003752e+07</td>\n",
              "    </tr>\n",
              "    <tr>\n",
              "      <th>min</th>\n",
              "      <td>0.000000</td>\n",
              "      <td>2.440000</td>\n",
              "      <td>2.530000</td>\n",
              "      <td>2.350000</td>\n",
              "      <td>2.470000</td>\n",
              "      <td>4.029600e+06</td>\n",
              "    </tr>\n",
              "    <tr>\n",
              "      <th>25%</th>\n",
              "      <td>48.250000</td>\n",
              "      <td>2.792500</td>\n",
              "      <td>2.850000</td>\n",
              "      <td>2.750000</td>\n",
              "      <td>2.782500</td>\n",
              "      <td>1.229382e+07</td>\n",
              "    </tr>\n",
              "    <tr>\n",
              "      <th>50%</th>\n",
              "      <td>96.500000</td>\n",
              "      <td>3.940000</td>\n",
              "      <td>4.000000</td>\n",
              "      <td>3.870000</td>\n",
              "      <td>3.935000</td>\n",
              "      <td>1.744780e+07</td>\n",
              "    </tr>\n",
              "    <tr>\n",
              "      <th>75%</th>\n",
              "      <td>144.750000</td>\n",
              "      <td>4.100000</td>\n",
              "      <td>4.150000</td>\n",
              "      <td>4.060000</td>\n",
              "      <td>4.100000</td>\n",
              "      <td>2.749208e+07</td>\n",
              "    </tr>\n",
              "    <tr>\n",
              "      <th>max</th>\n",
              "      <td>193.000000</td>\n",
              "      <td>4.660000</td>\n",
              "      <td>4.800000</td>\n",
              "      <td>4.570000</td>\n",
              "      <td>4.660000</td>\n",
              "      <td>1.561137e+08</td>\n",
              "    </tr>\n",
              "  </tbody>\n",
              "</table>\n",
              "</div>"
            ],
            "text/plain": [
              "       Unnamed: 0        Open        High         Low       Close        Volume\n",
              "count  194.000000  194.000000  194.000000  194.000000  194.000000  1.940000e+02\n",
              "mean    96.500000    3.625309    3.681959    3.565722    3.617732  2.315391e+07\n",
              "std     56.147128    0.644966    0.652331    0.641441    0.650250  2.003752e+07\n",
              "min      0.000000    2.440000    2.530000    2.350000    2.470000  4.029600e+06\n",
              "25%     48.250000    2.792500    2.850000    2.750000    2.782500  1.229382e+07\n",
              "50%     96.500000    3.940000    4.000000    3.870000    3.935000  1.744780e+07\n",
              "75%    144.750000    4.100000    4.150000    4.060000    4.100000  2.749208e+07\n",
              "max    193.000000    4.660000    4.800000    4.570000    4.660000  1.561137e+08"
            ]
          },
          "metadata": {
            "tags": []
          },
          "execution_count": 5
        }
      ]
    },
    {
      "cell_type": "code",
      "metadata": {
        "id": "1wrQtJtKFZ-E"
      },
      "source": [
        "#dataset['Date']=pd.to_datetime(dataset.Date)\n"
      ],
      "execution_count": null,
      "outputs": []
    },
    {
      "cell_type": "code",
      "metadata": {
        "id": "KOli0wesFxVd",
        "colab": {
          "base_uri": "https://localhost:8080/"
        },
        "outputId": "ff90fdc0-c02f-4fdd-e275-59900bc4e883"
      },
      "source": [
        "dataset.shape"
      ],
      "execution_count": null,
      "outputs": [
        {
          "output_type": "execute_result",
          "data": {
            "text/plain": [
              "(194, 7)"
            ]
          },
          "metadata": {
            "tags": []
          },
          "execution_count": 7
        }
      ]
    },
    {
      "cell_type": "code",
      "metadata": {
        "id": "EIYE4DVWNssP",
        "colab": {
          "base_uri": "https://localhost:8080/"
        },
        "outputId": "250aaab2-2355-4813-dd32-5bec21b16933"
      },
      "source": [
        "print(dataset)"
      ],
      "execution_count": null,
      "outputs": [
        {
          "output_type": "stream",
          "text": [
            "     Unnamed: 0        Date  Open  High   Low  Close    Volume\n",
            "0             0  2014-03-27  3.99  4.07  3.87   3.91  24532000\n",
            "1             1  2014-03-28  3.93  3.97  3.87   3.88  13189200\n",
            "2             2  2014-03-31  3.93  4.02  3.90   4.01  15386000\n",
            "3             3  2014-04-01  4.04  4.10  4.02   4.07  18778800\n",
            "4             4  2014-04-02  4.12  4.12  4.06   4.06  14839500\n",
            "..          ...         ...   ...   ...   ...    ...       ...\n",
            "189         189  2014-12-24  2.63  2.70  2.63   2.65   4624000\n",
            "190         190  2014-12-26  2.65  2.69  2.65   2.65   4029600\n",
            "191         191  2014-12-29  2.64  2.66  2.63   2.66   8527000\n",
            "192         192  2014-12-30  2.64  2.70  2.63   2.63   7783700\n",
            "193         193  2014-12-31  2.64  2.70  2.64   2.67  11177900\n",
            "\n",
            "[194 rows x 7 columns]\n"
          ],
          "name": "stdout"
        }
      ]
    },
    {
      "cell_type": "code",
      "metadata": {
        "id": "HZSvD71qGCbv",
        "colab": {
          "base_uri": "https://localhost:8080/"
        },
        "outputId": "7e6e8434-b23f-4853-f3fc-e0671330d7cc"
      },
      "source": [
        "print(dataset.head(100))"
      ],
      "execution_count": null,
      "outputs": [
        {
          "output_type": "stream",
          "text": [
            "    Unnamed: 0        Date  Open  High   Low  Close    Volume\n",
            "0            0  2014-03-27  3.99  4.07  3.87   3.91  24532000\n",
            "1            1  2014-03-28  3.93  3.97  3.87   3.88  13189200\n",
            "2            2  2014-03-31  3.93  4.02  3.90   4.01  15386000\n",
            "3            3  2014-04-01  4.04  4.10  4.02   4.07  18778800\n",
            "4            4  2014-04-02  4.12  4.12  4.06   4.06  14839500\n",
            "..         ...         ...   ...   ...   ...    ...       ...\n",
            "95          95  2014-08-12  4.12  4.14  4.08   4.08  27369900\n",
            "96          96  2014-08-13  4.08  4.15  4.03   4.11  30396800\n",
            "97          97  2014-08-14  4.10  4.17  4.08   4.08  26148100\n",
            "98          98  2014-08-15  4.12  4.14  4.07   4.13  33349200\n",
            "99          99  2014-08-18  4.14  4.22  4.14   4.21  45381300\n",
            "\n",
            "[100 rows x 7 columns]\n"
          ],
          "name": "stdout"
        }
      ]
    },
    {
      "cell_type": "code",
      "metadata": {
        "id": "akjqb5wOGFDO",
        "colab": {
          "base_uri": "https://localhost:8080/"
        },
        "outputId": "2568890a-1653-4025-e9c2-098268133069"
      },
      "source": [
        "dataset.isnull().sum()\n",
        "#Checking if any value is NULL"
      ],
      "execution_count": null,
      "outputs": [
        {
          "output_type": "execute_result",
          "data": {
            "text/plain": [
              "Unnamed: 0    0\n",
              "Date          0\n",
              "Open          0\n",
              "High          0\n",
              "Low           0\n",
              "Close         0\n",
              "Volume        0\n",
              "dtype: int64"
            ]
          },
          "metadata": {
            "tags": []
          },
          "execution_count": 10
        }
      ]
    },
    {
      "cell_type": "code",
      "metadata": {
        "id": "U7CYd3boGQZX",
        "colab": {
          "base_uri": "https://localhost:8080/"
        },
        "outputId": "603d9c03-deea-4eee-afbc-6258e2555e3d"
      },
      "source": [
        "dataset.isna().any()\n",
        "#is there any boolean values"
      ],
      "execution_count": null,
      "outputs": [
        {
          "output_type": "execute_result",
          "data": {
            "text/plain": [
              "Unnamed: 0    False\n",
              "Date          False\n",
              "Open          False\n",
              "High          False\n",
              "Low           False\n",
              "Close         False\n",
              "Volume        False\n",
              "dtype: bool"
            ]
          },
          "metadata": {
            "tags": []
          },
          "execution_count": 11
        }
      ]
    },
    {
      "cell_type": "code",
      "metadata": {
        "id": "zC7jSKF7GsTw",
        "colab": {
          "base_uri": "https://localhost:8080/"
        },
        "outputId": "cccebdb5-ca2b-48f3-d4cf-0ebdfa81b85a"
      },
      "source": [
        "dataset.info()\n",
        "#information about our dataset"
      ],
      "execution_count": null,
      "outputs": [
        {
          "output_type": "stream",
          "text": [
            "<class 'pandas.core.frame.DataFrame'>\n",
            "RangeIndex: 194 entries, 0 to 193\n",
            "Data columns (total 7 columns):\n",
            " #   Column      Non-Null Count  Dtype  \n",
            "---  ------      --------------  -----  \n",
            " 0   Unnamed: 0  194 non-null    int64  \n",
            " 1   Date        194 non-null    object \n",
            " 2   Open        194 non-null    float64\n",
            " 3   High        194 non-null    float64\n",
            " 4   Low         194 non-null    float64\n",
            " 5   Close       194 non-null    float64\n",
            " 6   Volume      194 non-null    int64  \n",
            "dtypes: float64(4), int64(2), object(1)\n",
            "memory usage: 10.7+ KB\n"
          ],
          "name": "stdout"
        }
      ]
    },
    {
      "cell_type": "markdown",
      "metadata": {
        "id": "9jkuCD1nfXVc"
      },
      "source": [
        "### VISUALIZING THE DATASET THROUGH GRAPH"
      ]
    },
    {
      "cell_type": "code",
      "metadata": {
        "id": "DlZGS5WeLpsm",
        "colab": {
          "base_uri": "https://localhost:8080/",
          "height": 260
        },
        "outputId": "f06eaf96-3b95-43db-cb89-2b9a6f979d29"
      },
      "source": [
        "# Import matplotlib package for date plots\n",
        "import matplotlib.dates as mdates\n",
        "\n",
        "years = mdates.YearLocator() # Get every year\n",
        "yearsFmt = mdates.DateFormatter('%Y') # Set year format\n",
        "\n",
        "# Create subplots to plot graph and control axes\n",
        "fig, ax = plt.subplots()\n",
        "ax.plot(dataset['Date'], dataset['Close'])\n",
        "\n",
        "# Format the ticks\n",
        "ax.xaxis.set_major_locator(years)\n",
        "ax.xaxis.set_major_formatter(yearsFmt)\n",
        "\n",
        "# Set figure title\n",
        "plt.title('Close Stock Price History [2009 - 2015]', fontsize=12)\n",
        "# Set x label\n",
        "plt.xlabel('Date', fontsize=12)\n",
        "# Set y label\n",
        "plt.ylabel('Closing Stock Price in $', fontsize=14)\n",
        "\n",
        "# Rotate and align the x labels\n",
        "fig.autofmt_xdate()\n",
        "\n",
        "# Show plot\n",
        "plt.show()"
      ],
      "execution_count": null,
      "outputs": [
        {
          "output_type": "display_data",
          "data": {
            "image/png": "[encoded data removed]",
            "text/plain": [
              "<Figure size 432x288 with 1 Axes>"
            ]
          },
          "metadata": {
            "tags": [],
            "needs_background": "light"
          }
        }
      ]
    },
    {
      "cell_type": "markdown",
      "metadata": {
        "id": "Vm8M6YSqe-3j"
      },
      "source": [
        "### Another way of plotting the graph\n"
      ]
    },
    {
      "cell_type": "code",
      "metadata": {
        "colab": {
          "base_uri": "https://localhost:8080/",
          "height": 405
        },
        "id": "8FML-k3sfP2f",
        "outputId": "4449eea8-e143-4446-f602-531f7580d2e7"
      },
      "source": [
        "plt.figure(figsize=(12,6))\n",
        "plt.title('Close Stock Price History')\n",
        "plt.xlabel('DAYS')\n",
        "plt.ylabel('CLOSING PRICE')\n",
        "plt.plot(dataset['Close'])\n",
        "plt.show()"
      ],
      "execution_count": null,
      "outputs": [
        {
          "output_type": "display_data",
          "data": {
            "image/png": "[encoded data removed]",
            "text/plain": [
              "<Figure size 864x432 with 1 Axes>"
            ]
          },
          "metadata": {
            "tags": [],
            "needs_background": "light"
          }
        }
      ]
    },
    {
      "cell_type": "markdown",
      "metadata": {
        "id": "7ChaQFRNfnqn"
      },
      "source": [
        "## TRAINING AND TESTING"
      ]
    },
    {
      "cell_type": "code",
      "metadata": {
        "id": "7LmTL8lbaz8e",
        "colab": {
          "base_uri": "https://localhost:8080/",
          "height": 166
        },
        "outputId": "682f98ea-27a6-42a6-d381-3a6322f4d300"
      },
      "source": [
        "#GET the close price \n",
        "#dataset = dataset[['Close']]\n",
        "#dataset = dataset[['Open','High','Low','Volume']].values\n",
        "\n",
        "dataset.head(4)"
      ],
      "execution_count": null,
      "outputs": [
        {
          "output_type": "execute_result",
          "data": {
            "text/html": [
              "<div>\n",
              "<style scoped>\n",
              "    .dataframe tbody tr th:only-of-type {\n",
              "        vertical-align: middle;\n",
              "    }\n",
              "\n",
              "    .dataframe tbody tr th {\n",
              "        vertical-align: top;\n",
              "    }\n",
              "\n",
              "    .dataframe thead th {\n",
              "        text-align: right;\n",
              "    }\n",
              "</style>\n",
              "<table border=\"1\" class=\"dataframe\">\n",
              "  <thead>\n",
              "    <tr style=\"text-align: right;\">\n",
              "      <th></th>\n",
              "      <th>Unnamed: 0</th>\n",
              "      <th>Date</th>\n",
              "      <th>Open</th>\n",
              "      <th>High</th>\n",
              "      <th>Low</th>\n",
              "      <th>Close</th>\n",
              "      <th>Volume</th>\n",
              "    </tr>\n",
              "  </thead>\n",
              "  <tbody>\n",
              "    <tr>\n",
              "      <th>0</th>\n",
              "      <td>0</td>\n",
              "      <td>2014-03-27</td>\n",
              "      <td>3.99</td>\n",
              "      <td>4.07</td>\n",
              "      <td>3.87</td>\n",
              "      <td>3.91</td>\n",
              "      <td>24532000</td>\n",
              "    </tr>\n",
              "    <tr>\n",
              "      <th>1</th>\n",
              "      <td>1</td>\n",
              "      <td>2014-03-28</td>\n",
              "      <td>3.93</td>\n",
              "      <td>3.97</td>\n",
              "      <td>3.87</td>\n",
              "      <td>3.88</td>\n",
              "      <td>13189200</td>\n",
              "    </tr>\n",
              "    <tr>\n",
              "      <th>2</th>\n",
              "      <td>2</td>\n",
              "      <td>2014-03-31</td>\n",
              "      <td>3.93</td>\n",
              "      <td>4.02</td>\n",
              "      <td>3.90</td>\n",
              "      <td>4.01</td>\n",
              "      <td>15386000</td>\n",
              "    </tr>\n",
              "    <tr>\n",
              "      <th>3</th>\n",
              "      <td>3</td>\n",
              "      <td>2014-04-01</td>\n",
              "      <td>4.04</td>\n",
              "      <td>4.10</td>\n",
              "      <td>4.02</td>\n",
              "      <td>4.07</td>\n",
              "      <td>18778800</td>\n",
              "    </tr>\n",
              "  </tbody>\n",
              "</table>\n",
              "</div>"
            ],
            "text/plain": [
              "   Unnamed: 0        Date  Open  High   Low  Close    Volume\n",
              "0           0  2014-03-27  3.99  4.07  3.87   3.91  24532000\n",
              "1           1  2014-03-28  3.93  3.97  3.87   3.88  13189200\n",
              "2           2  2014-03-31  3.93  4.02  3.90   4.01  15386000\n",
              "3           3  2014-04-01  4.04  4.10  4.02   4.07  18778800"
            ]
          },
          "metadata": {
            "tags": []
          },
          "execution_count": 15
        }
      ]
    },
    {
      "cell_type": "code",
      "metadata": {
        "id": "dv7Ruiq8DNSt",
        "colab": {
          "base_uri": "https://localhost:8080/",
          "height": 166
        },
        "outputId": "bcfc2ef2-095b-42bf-bb8d-bb02ff050c1f"
      },
      "source": [
        "#Create a variable to predict 'x' days into the future\n",
        "future_days=25\n",
        "#Create a new column(target) shifted 'x' days up\n",
        "dataset['Predictions']=dataset[['Close']].shift(-future_days)  \n",
        "dataset.tail(4)"
      ],
      "execution_count": null,
      "outputs": [
        {
          "output_type": "execute_result",
          "data": {
            "text/html": [
              "<div>\n",
              "<style scoped>\n",
              "    .dataframe tbody tr th:only-of-type {\n",
              "        vertical-align: middle;\n",
              "    }\n",
              "\n",
              "    .dataframe tbody tr th {\n",
              "        vertical-align: top;\n",
              "    }\n",
              "\n",
              "    .dataframe thead th {\n",
              "        text-align: right;\n",
              "    }\n",
              "</style>\n",
              "<table border=\"1\" class=\"dataframe\">\n",
              "  <thead>\n",
              "    <tr style=\"text-align: right;\">\n",
              "      <th></th>\n",
              "      <th>Unnamed: 0</th>\n",
              "      <th>Date</th>\n",
              "      <th>Open</th>\n",
              "      <th>High</th>\n",
              "      <th>Low</th>\n",
              "      <th>Close</th>\n",
              "      <th>Volume</th>\n",
              "      <th>Predictions</th>\n",
              "    </tr>\n",
              "  </thead>\n",
              "  <tbody>\n",
              "    <tr>\n",
              "      <th>190</th>\n",
              "      <td>190</td>\n",
              "      <td>2014-12-26</td>\n",
              "      <td>2.65</td>\n",
              "      <td>2.69</td>\n",
              "      <td>2.65</td>\n",
              "      <td>2.65</td>\n",
              "      <td>4029600</td>\n",
              "      <td>NaN</td>\n",
              "    </tr>\n",
              "    <tr>\n",
              "      <th>191</th>\n",
              "      <td>191</td>\n",
              "      <td>2014-12-29</td>\n",
              "      <td>2.64</td>\n",
              "      <td>2.66</td>\n",
              "      <td>2.63</td>\n",
              "      <td>2.66</td>\n",
              "      <td>8527000</td>\n",
              "      <td>NaN</td>\n",
              "    </tr>\n",
              "    <tr>\n",
              "      <th>192</th>\n",
              "      <td>192</td>\n",
              "      <td>2014-12-30</td>\n",
              "      <td>2.64</td>\n",
              "      <td>2.70</td>\n",
              "      <td>2.63</td>\n",
              "      <td>2.63</td>\n",
              "      <td>7783700</td>\n",
              "      <td>NaN</td>\n",
              "    </tr>\n",
              "    <tr>\n",
              "      <th>193</th>\n",
              "      <td>193</td>\n",
              "      <td>2014-12-31</td>\n",
              "      <td>2.64</td>\n",
              "      <td>2.70</td>\n",
              "      <td>2.64</td>\n",
              "      <td>2.67</td>\n",
              "      <td>11177900</td>\n",
              "      <td>NaN</td>\n",
              "    </tr>\n",
              "  </tbody>\n",
              "</table>\n",
              "</div>"
            ],
            "text/plain": [
              "     Unnamed: 0        Date  Open  High   Low  Close    Volume  Predictions\n",
              "190         190  2014-12-26  2.65  2.69  2.65   2.65   4029600          NaN\n",
              "191         191  2014-12-29  2.64  2.66  2.63   2.66   8527000          NaN\n",
              "192         192  2014-12-30  2.64  2.70  2.63   2.63   7783700          NaN\n",
              "193         193  2014-12-31  2.64  2.70  2.64   2.67  11177900          NaN"
            ]
          },
          "metadata": {
            "tags": []
          },
          "execution_count": 16
        }
      ]
    },
    {
      "cell_type": "code",
      "metadata": {
        "id": "gu8x-d0jFsC1",
        "colab": {
          "base_uri": "https://localhost:8080/"
        },
        "outputId": "87d9db51-6f53-4084-aebe-59369f2b1565"
      },
      "source": [
        "#create the future data set(X)and convert it to the numpy array and remove last rows \n",
        "x =np.array(dataset.drop(['Date','Predictions','Close'], 1))[:-future_days]\n",
        "# x = np.array(dataset[['High','Low','Open','Volume']].values)\n",
        "print(x)"
      ],
      "execution_count": null,
      "outputs": [
        {
          "output_type": "stream",
          "text": [
            "[[0.000000e+00 3.990000e+00 4.070000e+00 3.870000e+00 2.453200e+07]\n",
            " [1.000000e+00 3.930000e+00 3.970000e+00 3.870000e+00 1.318920e+07]\n",
            " [2.000000e+00 3.930000e+00 4.020000e+00 3.900000e+00 1.538600e+07]\n",
            " [3.000000e+00 4.040000e+00 4.100000e+00 4.020000e+00 1.877880e+07]\n",
            " [4.000000e+00 4.120000e+00 4.120000e+00 4.060000e+00 1.483950e+07]\n",
            " [5.000000e+00 4.070000e+00 4.100000e+00 3.970000e+00 1.680230e+07]\n",
            " [6.000000e+00 4.030000e+00 4.110000e+00 3.920000e+00 2.342700e+07]\n",
            " [7.000000e+00 3.980000e+00 3.990000e+00 3.830000e+00 2.487460e+07]\n",
            " [8.000000e+00 3.890000e+00 4.000000e+00 3.830000e+00 1.733910e+07]\n",
            " [9.000000e+00 4.010000e+00 4.020000e+00 3.950000e+00 1.127030e+07]\n",
            " [1.000000e+01 3.970000e+00 4.010000e+00 3.840000e+00 2.136430e+07]\n",
            " [1.100000e+01 3.820000e+00 3.850000e+00 3.650000e+00 3.442880e+07]\n",
            " [1.200000e+01 3.720000e+00 3.780000e+00 3.650000e+00 2.273510e+07]\n",
            " [1.300000e+01 3.740000e+00 3.820000e+00 3.720000e+00 2.175430e+07]\n",
            " [1.400000e+01 3.810000e+00 3.830000e+00 3.730000e+00 1.817330e+07]\n",
            " [1.500000e+01 3.780000e+00 3.800000e+00 3.690000e+00 3.204810e+07]\n",
            " [1.600000e+01 4.010000e+00 4.200000e+00 3.960000e+00 1.026515e+08]\n",
            " [1.700000e+01 4.130000e+00 4.310000e+00 4.110000e+00 5.280680e+07]\n",
            " [1.800000e+01 4.280000e+00 4.300000e+00 4.160000e+00 2.913630e+07]\n",
            " [1.900000e+01 4.270000e+00 4.350000e+00 4.200000e+00 2.753280e+07]\n",
            " [2.000000e+01 4.220000e+00 4.260000e+00 4.040000e+00 3.781020e+07]\n",
            " [2.100000e+01 4.090000e+00 4.120000e+00 3.870000e+00 3.173710e+07]\n",
            " [2.200000e+01 4.020000e+00 4.030000e+00 3.960000e+00 1.458290e+07]\n",
            " [2.300000e+01 4.000000e+00 4.100000e+00 3.990000e+00 1.841920e+07]\n",
            " [2.400000e+01 4.130000e+00 4.240000e+00 4.100000e+00 3.780730e+07]\n",
            " [2.500000e+01 4.170000e+00 4.200000e+00 4.100000e+00 1.447970e+07]\n",
            " [2.600000e+01 4.100000e+00 4.140000e+00 4.060000e+00 9.015400e+06]\n",
            " [2.700000e+01 4.060000e+00 4.130000e+00 3.980000e+00 1.792930e+07]\n",
            " [2.800000e+01 4.040000e+00 4.040000e+00 3.890000e+00 2.237470e+07]\n",
            " [2.900000e+01 3.950000e+00 4.030000e+00 3.910000e+00 1.455020e+07]\n",
            " [3.000000e+01 3.910000e+00 3.930000e+00 3.850000e+00 1.598290e+07]\n",
            " [3.100000e+01 3.870000e+00 4.000000e+00 3.860000e+00 1.478550e+07]\n",
            " [3.200000e+01 3.990000e+00 4.090000e+00 3.980000e+00 1.122400e+07]\n",
            " [3.300000e+01 4.030000e+00 4.060000e+00 3.980000e+00 1.034960e+07]\n",
            " [3.400000e+01 3.960000e+00 3.980000e+00 3.890000e+00 1.800090e+07]\n",
            " [3.500000e+01 3.950000e+00 4.050000e+00 3.910000e+00 1.716660e+07]\n",
            " [3.600000e+01 4.000000e+00 4.100000e+00 3.960000e+00 1.817100e+07]\n",
            " [3.700000e+01 4.090000e+00 4.110000e+00 4.000000e+00 1.564750e+07]\n",
            " [3.800000e+01 4.060000e+00 4.100000e+00 4.050000e+00 1.336950e+07]\n",
            " [3.900000e+01 4.090000e+00 4.090000e+00 4.010000e+00 1.190310e+07]\n",
            " [4.000000e+01 4.030000e+00 4.060000e+00 3.970000e+00 9.831100e+06]\n",
            " [4.100000e+01 4.050000e+00 4.060000e+00 4.030000e+00 6.922800e+06]\n",
            " [4.200000e+01 4.040000e+00 4.060000e+00 3.990000e+00 1.229380e+07]\n",
            " [4.300000e+01 4.020000e+00 4.060000e+00 4.010000e+00 8.876700e+06]\n",
            " [4.400000e+01 4.020000e+00 4.030000e+00 3.980000e+00 1.003060e+07]\n",
            " [4.500000e+01 4.030000e+00 4.030000e+00 3.940000e+00 1.085950e+07]\n",
            " [4.600000e+01 3.960000e+00 3.980000e+00 3.920000e+00 1.085880e+07]\n",
            " [4.700000e+01 3.930000e+00 4.050000e+00 3.930000e+00 1.328600e+07]\n",
            " [4.800000e+01 4.040000e+00 4.090000e+00 4.020000e+00 1.372380e+07]\n",
            " [4.900000e+01 4.090000e+00 4.110000e+00 4.060000e+00 8.466000e+06]\n",
            " [5.000000e+01 4.050000e+00 4.100000e+00 4.040000e+00 7.597200e+06]\n",
            " [5.100000e+01 4.100000e+00 4.230000e+00 4.100000e+00 2.832210e+07]\n",
            " [5.200000e+01 4.180000e+00 4.300000e+00 4.170000e+00 2.059620e+07]\n",
            " [5.300000e+01 4.330000e+00 4.440000e+00 4.280000e+00 2.670950e+07]\n",
            " [5.400000e+01 4.360000e+00 4.390000e+00 4.240000e+00 1.773460e+07]\n",
            " [5.500000e+01 4.260000e+00 4.440000e+00 4.260000e+00 2.619280e+07]\n",
            " [5.600000e+01 4.410000e+00 4.500000e+00 4.410000e+00 1.944500e+07]\n",
            " [5.700000e+01 4.500000e+00 4.500000e+00 4.350000e+00 1.470240e+07]\n",
            " [5.800000e+01 4.420000e+00 4.450000e+00 4.330000e+00 1.088050e+07]\n",
            " [5.900000e+01 4.340000e+00 4.370000e+00 4.070000e+00 5.472160e+07]\n",
            " [6.000000e+01 4.060000e+00 4.080000e+00 3.900000e+00 4.963410e+07]\n",
            " [6.100000e+01 4.010000e+00 4.070000e+00 3.930000e+00 2.040240e+07]\n",
            " [6.200000e+01 3.950000e+00 4.000000e+00 3.940000e+00 1.384470e+07]\n",
            " [6.300000e+01 3.950000e+00 4.090000e+00 3.940000e+00 2.164050e+07]\n",
            " [6.400000e+01 4.060000e+00 4.110000e+00 4.040000e+00 1.603460e+07]\n",
            " [6.500000e+01 4.120000e+00 4.250000e+00 4.080000e+00 2.585020e+07]\n",
            " [6.600000e+01 4.210000e+00 4.260000e+00 4.170000e+00 2.941260e+07]\n",
            " [6.700000e+01 4.230000e+00 4.350000e+00 4.220000e+00 2.048650e+07]\n",
            " [6.800000e+01 4.360000e+00 4.400000e+00 4.140000e+00 2.252170e+07]\n",
            " [6.900000e+01 4.230000e+00 4.310000e+00 4.210000e+00 2.116550e+07]\n",
            " [7.000000e+01 4.250000e+00 4.300000e+00 4.100000e+00 4.168580e+07]\n",
            " [7.100000e+01 4.210000e+00 4.290000e+00 4.200000e+00 1.846220e+07]\n",
            " [7.200000e+01 4.180000e+00 4.360000e+00 4.140000e+00 3.924500e+07]\n",
            " [7.300000e+01 4.300000e+00 4.400000e+00 4.290000e+00 2.242560e+07]\n",
            " [7.400000e+01 4.440000e+00 4.650000e+00 4.390000e+00 7.304600e+07]\n",
            " [7.500000e+01 4.630000e+00 4.800000e+00 4.410000e+00 1.561137e+08]\n",
            " [7.600000e+01 4.600000e+00 4.770000e+00 4.570000e+00 6.184810e+07]\n",
            " [7.700000e+01 4.660000e+00 4.680000e+00 4.500000e+00 5.130980e+07]\n",
            " [7.800000e+01 3.730000e+00 3.840000e+00 3.670000e+00 1.375777e+08]\n",
            " [7.900000e+01 3.860000e+00 3.870000e+00 3.750000e+00 3.421910e+07]\n",
            " [8.000000e+01 3.820000e+00 3.860000e+00 3.780000e+00 3.400480e+07]\n",
            " [8.100000e+01 3.820000e+00 3.830000e+00 3.750000e+00 3.174820e+07]\n",
            " [8.200000e+01 3.750000e+00 3.800000e+00 3.710000e+00 2.796760e+07]\n",
            " [8.300000e+01 3.730000e+00 3.790000e+00 3.690000e+00 3.179370e+07]\n",
            " [8.400000e+01 3.770000e+00 3.780000e+00 3.680000e+00 3.144340e+07]\n",
            " [8.500000e+01 3.740000e+00 3.840000e+00 3.730000e+00 3.615740e+07]\n",
            " [8.600000e+01 3.820000e+00 3.880000e+00 3.770000e+00 4.298120e+07]\n",
            " [8.700000e+01 3.800000e+00 3.990000e+00 3.780000e+00 1.121629e+08]\n",
            " [8.800000e+01 3.910000e+00 4.010000e+00 3.870000e+00 3.371000e+07]\n",
            " [8.900000e+01 3.970000e+00 4.020000e+00 3.930000e+00 2.149320e+07]\n",
            " [9.000000e+01 3.990000e+00 4.110000e+00 3.970000e+00 4.033060e+07]\n",
            " [9.100000e+01 4.060000e+00 4.140000e+00 4.030000e+00 1.627120e+07]\n",
            " [9.200000e+01 4.140000e+00 4.200000e+00 4.070000e+00 3.271230e+07]\n",
            " [9.300000e+01 4.100000e+00 4.150000e+00 4.050000e+00 2.716690e+07]\n",
            " [9.400000e+01 4.030000e+00 4.190000e+00 3.990000e+00 2.956050e+07]\n",
            " [9.500000e+01 4.120000e+00 4.140000e+00 4.080000e+00 2.736990e+07]\n",
            " [9.600000e+01 4.080000e+00 4.150000e+00 4.030000e+00 3.039680e+07]\n",
            " [9.700000e+01 4.100000e+00 4.170000e+00 4.080000e+00 2.614810e+07]\n",
            " [9.800000e+01 4.120000e+00 4.140000e+00 4.070000e+00 3.334920e+07]\n",
            " [9.900000e+01 4.140000e+00 4.220000e+00 4.140000e+00 4.538130e+07]\n",
            " [1.000000e+02 4.200000e+00 4.300000e+00 4.200000e+00 2.322210e+07]\n",
            " [1.010000e+02 4.250000e+00 4.320000e+00 4.220000e+00 1.198660e+07]\n",
            " [1.020000e+02 4.290000e+00 4.290000e+00 4.210000e+00 1.193980e+07]\n",
            " [1.030000e+02 4.220000e+00 4.280000e+00 4.210000e+00 8.364700e+06]\n",
            " [1.040000e+02 4.270000e+00 4.270000e+00 4.180000e+00 8.998200e+06]\n",
            " [1.050000e+02 4.170000e+00 4.220000e+00 4.130000e+00 9.183900e+06]\n",
            " [1.060000e+02 4.200000e+00 4.210000e+00 4.150000e+00 7.304400e+06]\n",
            " [1.070000e+02 4.140000e+00 4.190000e+00 4.070000e+00 1.033140e+07]\n",
            " [1.080000e+02 4.150000e+00 4.190000e+00 4.140000e+00 7.347200e+06]\n",
            " [1.090000e+02 4.160000e+00 4.250000e+00 4.150000e+00 1.260330e+07]\n",
            " [1.100000e+02 4.170000e+00 4.230000e+00 4.170000e+00 9.600600e+06]\n",
            " [1.110000e+02 4.180000e+00 4.250000e+00 4.150000e+00 1.279140e+07]\n",
            " [1.120000e+02 4.170000e+00 4.190000e+00 4.150000e+00 6.630200e+06]\n",
            " [1.130000e+02 4.130000e+00 4.180000e+00 4.100000e+00 8.396200e+06]\n",
            " [1.140000e+02 4.150000e+00 4.160000e+00 4.080000e+00 8.964800e+06]\n",
            " [1.150000e+02 4.080000e+00 4.110000e+00 4.010000e+00 1.327680e+07]\n",
            " [1.160000e+02 4.030000e+00 4.080000e+00 4.020000e+00 8.086800e+06]\n",
            " [1.170000e+02 4.060000e+00 4.110000e+00 3.960000e+00 1.412390e+07]\n",
            " [1.180000e+02 3.980000e+00 4.020000e+00 3.900000e+00 1.825700e+07]\n",
            " [1.190000e+02 3.890000e+00 3.900000e+00 3.800000e+00 4.015640e+07]\n",
            " [1.200000e+02 3.820000e+00 3.880000e+00 3.800000e+00 2.489460e+07]\n",
            " [1.210000e+02 3.880000e+00 3.940000e+00 3.700000e+00 1.614140e+07]\n",
            " [1.220000e+02 3.930000e+00 3.940000e+00 3.810000e+00 2.303000e+07]\n",
            " [1.230000e+02 3.810000e+00 3.830000e+00 3.750000e+00 1.420140e+07]\n",
            " [1.240000e+02 3.760000e+00 3.790000e+00 3.690000e+00 1.628250e+07]\n",
            " [1.250000e+02 3.710000e+00 3.750000e+00 3.690000e+00 1.179260e+07]\n",
            " [1.260000e+02 3.700000e+00 3.720000e+00 3.600000e+00 1.755650e+07]\n",
            " [1.270000e+02 3.630000e+00 3.670000e+00 3.600000e+00 1.297630e+07]\n",
            " [1.280000e+02 3.560000e+00 3.660000e+00 3.540000e+00 2.685760e+07]\n",
            " [1.290000e+02 3.560000e+00 3.580000e+00 3.400000e+00 5.595220e+07]\n",
            " [1.300000e+02 3.390000e+00 3.420000e+00 3.300000e+00 3.364590e+07]\n",
            " [1.310000e+02 3.370000e+00 3.440000e+00 3.280000e+00 2.790450e+07]\n",
            " [1.320000e+02 3.430000e+00 3.460000e+00 3.370000e+00 1.679700e+07]\n",
            " [1.330000e+02 3.420000e+00 3.440000e+00 3.300000e+00 1.786480e+07]\n",
            " [1.340000e+02 3.350000e+00 3.380000e+00 3.280000e+00 1.772060e+07]\n",
            " [1.350000e+02 3.300000e+00 3.310000e+00 3.180000e+00 2.800000e+07]\n",
            " [1.360000e+02 3.030000e+00 3.200000e+00 2.940000e+00 6.952890e+07]\n",
            " [1.370000e+02 2.950000e+00 2.950000e+00 2.710000e+00 4.106250e+07]\n",
            " [1.380000e+02 2.780000e+00 2.850000e+00 2.730000e+00 3.826940e+07]\n",
            " [1.390000e+02 2.610000e+00 2.750000e+00 2.600000e+00 3.996420e+07]\n",
            " [1.400000e+02 2.620000e+00 2.710000e+00 2.540000e+00 3.692460e+07]\n",
            " [1.410000e+02 2.560000e+00 2.720000e+00 2.540000e+00 3.879540e+07]\n",
            " [1.420000e+02 2.670000e+00 2.860000e+00 2.660000e+00 7.595660e+07]\n",
            " [1.430000e+02 2.790000e+00 2.800000e+00 2.600000e+00 2.871100e+07]\n",
            " [1.440000e+02 2.700000e+00 2.780000e+00 2.680000e+00 2.403380e+07]\n",
            " [1.450000e+02 2.790000e+00 2.800000e+00 2.640000e+00 2.303480e+07]\n",
            " [1.460000e+02 2.680000e+00 2.710000e+00 2.650000e+00 2.373100e+07]\n",
            " [1.470000e+02 2.690000e+00 2.730000e+00 2.670000e+00 1.194580e+07]\n",
            " [1.480000e+02 2.680000e+00 2.710000e+00 2.650000e+00 1.330750e+07]\n",
            " [1.490000e+02 2.690000e+00 2.770000e+00 2.670000e+00 2.287830e+07]\n",
            " [1.500000e+02 2.750000e+00 2.810000e+00 2.730000e+00 1.560090e+07]\n",
            " [1.510000e+02 2.790000e+00 2.790000e+00 2.700000e+00 1.302610e+07]\n",
            " [1.520000e+02 2.790000e+00 2.830000e+00 2.750000e+00 1.470480e+07]\n",
            " [1.530000e+02 2.810000e+00 2.900000e+00 2.810000e+00 1.173360e+07]\n",
            " [1.540000e+02 2.900000e+00 2.910000e+00 2.750000e+00 1.252430e+07]\n",
            " [1.550000e+02 2.850000e+00 2.870000e+00 2.770000e+00 9.635100e+06]\n",
            " [1.560000e+02 2.780000e+00 2.800000e+00 2.750000e+00 8.932900e+06]\n",
            " [1.570000e+02 2.770000e+00 2.800000e+00 2.760000e+00 7.293800e+06]\n",
            " [1.580000e+02 2.780000e+00 2.810000e+00 2.750000e+00 1.259310e+07]\n",
            " [1.590000e+02 2.780000e+00 2.790000e+00 2.720000e+00 8.113500e+06]\n",
            " [1.600000e+02 2.730000e+00 2.750000e+00 2.650000e+00 1.587540e+07]\n",
            " [1.610000e+02 2.710000e+00 2.740000e+00 2.650000e+00 1.091540e+07]\n",
            " [1.620000e+02 2.680000e+00 2.700000e+00 2.610000e+00 1.237300e+07]\n",
            " [1.630000e+02 2.620000e+00 2.690000e+00 2.610000e+00 1.259380e+07]\n",
            " [1.640000e+02 2.690000e+00 2.730000e+00 2.630000e+00 1.496780e+07]\n",
            " [1.650000e+02 2.680000e+00 2.680000e+00 2.610000e+00 1.032330e+07]\n",
            " [1.660000e+02 2.600000e+00 2.720000e+00 2.590000e+00 1.504390e+07]\n",
            " [1.670000e+02 2.720000e+00 2.770000e+00 2.710000e+00 1.131160e+07]\n",
            " [1.680000e+02 2.800000e+00 2.850000e+00 2.800000e+00 1.229390e+07]]\n"
          ],
          "name": "stdout"
        }
      ]
    },
    {
      "cell_type": "code",
      "metadata": {
        "id": "dpW6OzW0HWs1",
        "colab": {
          "base_uri": "https://localhost:8080/"
        },
        "outputId": "fe2adea9-ff5d-4c02-b788-051367e511d4"
      },
      "source": [
        "#Create the target data Y\n",
        "y=np.array(dataset['Predictions'])[:-future_days]\n",
        "print(y)"
      ],
      "execution_count": null,
      "outputs": [
        {
          "output_type": "stream",
          "text": [
            "[4.12 4.09 4.01 3.97 3.93 3.87 3.97 4.03 3.98 3.96 4.02 4.09 4.05 4.1\n",
            " 4.01 4.02 4.04 4.   4.03 4.   3.97 3.94 4.04 4.08 4.06 4.07 4.2  4.29\n",
            " 4.29 4.28 4.44 4.47 4.4  4.36 4.1  4.01 3.94 3.96 4.03 4.11 4.19 4.22\n",
            " 4.34 4.24 4.26 4.22 4.23 4.29 4.37 4.64 4.53 4.66 4.57 3.83 3.78 3.8\n",
            " 3.76 3.73 3.76 3.73 3.79 3.82 3.91 3.97 4.   4.08 4.12 4.1  4.12 4.14\n",
            " 4.08 4.11 4.08 4.13 4.21 4.27 4.28 4.24 4.25 4.18 4.19 4.16 4.14 4.17\n",
            " 4.16 4.19 4.15 4.15 4.13 4.08 4.08 4.08 3.96 3.91 3.81 3.82 3.88 3.81\n",
            " 3.76 3.69 3.7  3.63 3.6  3.55 3.41 3.35 3.39 3.4  3.36 3.28 3.28 2.95\n",
            " 2.72 2.74 2.62 2.61 2.64 2.72 2.67 2.77 2.64 2.69 2.68 2.66 2.72 2.77\n",
            " 2.75 2.8  2.87 2.83 2.8  2.76 2.78 2.76 2.73 2.71 2.66 2.61 2.67 2.65\n",
            " 2.63 2.69 2.77 2.83 2.83 2.84 2.79 2.67 2.68 2.74 2.69 2.66 2.58 2.59\n",
            " 2.48 2.49 2.52 2.47 2.5  2.55 2.55 2.57 2.66 2.67 2.65 2.65 2.66 2.63\n",
            " 2.67]\n"
          ],
          "name": "stdout"
        }
      ]
    },
    {
      "cell_type": "code",
      "metadata": {
        "id": "LLBICTNeGgsE"
      },
      "source": [
        " #x = dataset[['High','Low','Open','Volume']].values\n",
        "#y = dataset['Close'].values\n",
        "#dataset.tail(10)"
      ],
      "execution_count": null,
      "outputs": []
    },
    {
      "cell_type": "code",
      "metadata": {
        "id": "V9HXCQ_lH_4p"
      },
      "source": [
        "#Splitting the data into 70% training and 30% testing \n",
        "x_train,x_test,y_train,y_test = train_test_split(x,y,test_size=0.30)"
      ],
      "execution_count": null,
      "outputs": []
    },
    {
      "cell_type": "markdown",
      "metadata": {
        "id": "rRlf0Y3DB3Hu"
      },
      "source": [
        "## **Linear Regression**\n",
        "Our data contains only one **independent variable** ( X ) which represents the date and the **dependent variable** ( Y ) we are trying to predict is the Stock Price. To fit a line to the data points, which then represents an estimated relationship between  X  and  Y , we can use a Simple Linear Regression.\n",
        "\n",
        "The best fit line can be described with\n",
        "**Y=β0+β1X** \n",
        "\n",
        "where\n",
        "\n",
        "Y  is the predicted value of the dependent variable\n",
        "β0  is the y-intercept\n",
        "β1  is the slope\n",
        "X  is the value of the independent variable\n",
        "The goal is to find such coefficients  β0  and  β1  that the **Sum of Squared Errors**, which represents the difference between each point in the dataset with it’s corresponding predicted value outputted by the model, is minimal."
      ]
    },
    {
      "cell_type": "code",
      "metadata": {
        "id": "0QnXzty8smbC",
        "colab": {
          "base_uri": "https://localhost:8080/"
        },
        "outputId": "6f2d8524-fad3-4b33-b34f-01c666602d34"
      },
      "source": [
        "#Linear regressor model\n",
        "Lr = LinearRegression()\n",
        "Lr.fit(x_train,y_train)"
      ],
      "execution_count": null,
      "outputs": [
        {
          "output_type": "execute_result",
          "data": {
            "text/plain": [
              "LinearRegression(copy_X=True, fit_intercept=True, n_jobs=None, normalize=False)"
            ]
          },
          "metadata": {
            "tags": []
          },
          "execution_count": 21
        }
      ]
    },
    {
      "cell_type": "code",
      "metadata": {
        "id": "d-dO2xQhIXIb",
        "colab": {
          "base_uri": "https://localhost:8080/"
        },
        "outputId": "8101256e-587b-43ac-dc2d-184f7a4278d1"
      },
      "source": [
        "print(Lr.coef_)"
      ],
      "execution_count": null,
      "outputs": [
        {
          "output_type": "stream",
          "text": [
            "[-9.72151502e-03 -1.20629228e+00 -9.60074242e-01  2.46475342e+00\n",
            "  6.25611185e-09]\n"
          ],
          "name": "stdout"
        }
      ]
    },
    {
      "cell_type": "code",
      "metadata": {
        "id": "gNXIZvluHwhn",
        "colab": {
          "base_uri": "https://localhost:8080/"
        },
        "outputId": "fbc3c900-0ba1-418f-b02d-3fa00a8e7afe"
      },
      "source": [
        "print(Lr.intercept_)"
      ],
      "execution_count": null,
      "outputs": [
        {
          "output_type": "stream",
          "text": [
            "3.3314088851429617\n"
          ],
          "name": "stdout"
        }
      ]
    },
    {
      "cell_type": "markdown",
      "metadata": {
        "id": "RJhC7AjwssZo"
      },
      "source": [
        "## Predicting future days values "
      ]
    },
    {
      "cell_type": "code",
      "metadata": {
        "id": "SN_c6MRhLO_m",
        "colab": {
          "base_uri": "https://localhost:8080/"
        },
        "outputId": "149047bf-df5e-4380-d1c5-7853ace84a1f"
      },
      "source": [
        "#get the last 'x' rows of the future data set\n",
        "x_future = dataset.drop(['Date','Predictions','Close'], 1)[:-future_days]\n",
        "x_future=x_future.tail(future_days)\n",
        "x_future=np.array(x_future)\n",
        "x_future"
      ],
      "execution_count": null,
      "outputs": [
        {
          "output_type": "execute_result",
          "data": {
            "text/plain": [
              "array([[1.44000e+02, 2.70000e+00, 2.78000e+00, 2.68000e+00, 2.40338e+07],\n",
              "       [1.45000e+02, 2.79000e+00, 2.80000e+00, 2.64000e+00, 2.30348e+07],\n",
              "       [1.46000e+02, 2.68000e+00, 2.71000e+00, 2.65000e+00, 2.37310e+07],\n",
              "       [1.47000e+02, 2.69000e+00, 2.73000e+00, 2.67000e+00, 1.19458e+07],\n",
              "       [1.48000e+02, 2.68000e+00, 2.71000e+00, 2.65000e+00, 1.33075e+07],\n",
              "       [1.49000e+02, 2.69000e+00, 2.77000e+00, 2.67000e+00, 2.28783e+07],\n",
              "       [1.50000e+02, 2.75000e+00, 2.81000e+00, 2.73000e+00, 1.56009e+07],\n",
              "       [1.51000e+02, 2.79000e+00, 2.79000e+00, 2.70000e+00, 1.30261e+07],\n",
              "       [1.52000e+02, 2.79000e+00, 2.83000e+00, 2.75000e+00, 1.47048e+07],\n",
              "       [1.53000e+02, 2.81000e+00, 2.90000e+00, 2.81000e+00, 1.17336e+07],\n",
              "       [1.54000e+02, 2.90000e+00, 2.91000e+00, 2.75000e+00, 1.25243e+07],\n",
              "       [1.55000e+02, 2.85000e+00, 2.87000e+00, 2.77000e+00, 9.63510e+06],\n",
              "       [1.56000e+02, 2.78000e+00, 2.80000e+00, 2.75000e+00, 8.93290e+06],\n",
              "       [1.57000e+02, 2.77000e+00, 2.80000e+00, 2.76000e+00, 7.29380e+06],\n",
              "       [1.58000e+02, 2.78000e+00, 2.81000e+00, 2.75000e+00, 1.25931e+07],\n",
              "       [1.59000e+02, 2.78000e+00, 2.79000e+00, 2.72000e+00, 8.11350e+06],\n",
              "       [1.60000e+02, 2.73000e+00, 2.75000e+00, 2.65000e+00, 1.58754e+07],\n",
              "       [1.61000e+02, 2.71000e+00, 2.74000e+00, 2.65000e+00, 1.09154e+07],\n",
              "       [1.62000e+02, 2.68000e+00, 2.70000e+00, 2.61000e+00, 1.23730e+07],\n",
              "       [1.63000e+02, 2.62000e+00, 2.69000e+00, 2.61000e+00, 1.25938e+07],\n",
              "       [1.64000e+02, 2.69000e+00, 2.73000e+00, 2.63000e+00, 1.49678e+07],\n",
              "       [1.65000e+02, 2.68000e+00, 2.68000e+00, 2.61000e+00, 1.03233e+07],\n",
              "       [1.66000e+02, 2.60000e+00, 2.72000e+00, 2.59000e+00, 1.50439e+07],\n",
              "       [1.67000e+02, 2.72000e+00, 2.77000e+00, 2.71000e+00, 1.13116e+07],\n",
              "       [1.68000e+02, 2.80000e+00, 2.85000e+00, 2.80000e+00, 1.22939e+07]])"
            ]
          },
          "metadata": {
            "tags": []
          },
          "execution_count": 24
        }
      ]
    },
    {
      "cell_type": "code",
      "metadata": {
        "id": "Q1Wr7dInRexl",
        "colab": {
          "base_uri": "https://localhost:8080/"
        },
        "outputId": "c1ac92f3-06c0-43fe-e86b-974b12b17a5e"
      },
      "source": [
        "#Showing model linear prediction\n",
        "Lr_prediction=Lr.predict(x_future)\n",
        "#result = pd.DataFrame({'Actual':y_test.flatten(),'Predicted':y_pred.flatten()})\n",
        "print(Lr_prediction)\n",
        "print()"
      ],
      "execution_count": null,
      "outputs": [
        {
          "output_type": "stream",
          "text": [
            "[2.76141249 2.51908319 2.75746355 2.69204316 2.67280993 2.70259211\n",
            " 2.68444706 2.5556245  2.64123982 2.66948431 2.39865725 2.51887323\n",
            " 2.60710926 2.62384381 2.60096411 2.5084766  2.47349924 2.466474\n",
            " 2.44187299 2.51551111 2.44709324 2.41908678 2.44770321 2.51764363\n",
            " 2.56258598]\n",
            "\n"
          ],
          "name": "stdout"
        }
      ]
    },
    {
      "cell_type": "code",
      "metadata": {
        "id": "EKH7JWvGIZNt",
        "colab": {
          "base_uri": "https://localhost:8080/",
          "height": 787
        },
        "outputId": "78a8e93e-aa5f-46a1-8a04-8580806901ae"
      },
      "source": [
        "y_pred = Lr.predict(x_test)\n",
        "result = pd.DataFrame({'Actual':y_test.flatten(),'Predicted':y_pred.flatten()})\n",
        "result.tail(25)\n"
      ],
      "execution_count": null,
      "outputs": [
        {
          "output_type": "execute_result",
          "data": {
            "text/html": [
              "<div>\n",
              "<style scoped>\n",
              "    .dataframe tbody tr th:only-of-type {\n",
              "        vertical-align: middle;\n",
              "    }\n",
              "\n",
              "    .dataframe tbody tr th {\n",
              "        vertical-align: top;\n",
              "    }\n",
              "\n",
              "    .dataframe thead th {\n",
              "        text-align: right;\n",
              "    }\n",
              "</style>\n",
              "<table border=\"1\" class=\"dataframe\">\n",
              "  <thead>\n",
              "    <tr style=\"text-align: right;\">\n",
              "      <th></th>\n",
              "      <th>Actual</th>\n",
              "      <th>Predicted</th>\n",
              "    </tr>\n",
              "  </thead>\n",
              "  <tbody>\n",
              "    <tr>\n",
              "      <th>26</th>\n",
              "      <td>3.93</td>\n",
              "      <td>4.466829</td>\n",
              "    </tr>\n",
              "    <tr>\n",
              "      <th>27</th>\n",
              "      <td>3.35</td>\n",
              "      <td>3.465785</td>\n",
              "    </tr>\n",
              "    <tr>\n",
              "      <th>28</th>\n",
              "      <td>2.83</td>\n",
              "      <td>2.761412</td>\n",
              "    </tr>\n",
              "    <tr>\n",
              "      <th>29</th>\n",
              "      <td>3.69</td>\n",
              "      <td>3.811405</td>\n",
              "    </tr>\n",
              "    <tr>\n",
              "      <th>30</th>\n",
              "      <td>4.00</td>\n",
              "      <td>3.923698</td>\n",
              "    </tr>\n",
              "    <tr>\n",
              "      <th>31</th>\n",
              "      <td>2.62</td>\n",
              "      <td>3.335413</td>\n",
              "    </tr>\n",
              "    <tr>\n",
              "      <th>32</th>\n",
              "      <td>4.08</td>\n",
              "      <td>3.867186</td>\n",
              "    </tr>\n",
              "    <tr>\n",
              "      <th>33</th>\n",
              "      <td>3.82</td>\n",
              "      <td>3.807783</td>\n",
              "    </tr>\n",
              "    <tr>\n",
              "      <th>34</th>\n",
              "      <td>3.41</td>\n",
              "      <td>3.428949</td>\n",
              "    </tr>\n",
              "    <tr>\n",
              "      <th>35</th>\n",
              "      <td>2.65</td>\n",
              "      <td>2.447093</td>\n",
              "    </tr>\n",
              "    <tr>\n",
              "      <th>36</th>\n",
              "      <td>2.66</td>\n",
              "      <td>3.194275</td>\n",
              "    </tr>\n",
              "    <tr>\n",
              "      <th>37</th>\n",
              "      <td>4.10</td>\n",
              "      <td>3.930553</td>\n",
              "    </tr>\n",
              "    <tr>\n",
              "      <th>38</th>\n",
              "      <td>2.61</td>\n",
              "      <td>3.312579</td>\n",
              "    </tr>\n",
              "    <tr>\n",
              "      <th>39</th>\n",
              "      <td>4.01</td>\n",
              "      <td>4.420534</td>\n",
              "    </tr>\n",
              "    <tr>\n",
              "      <th>40</th>\n",
              "      <td>4.15</td>\n",
              "      <td>4.089502</td>\n",
              "    </tr>\n",
              "    <tr>\n",
              "      <th>41</th>\n",
              "      <td>4.36</td>\n",
              "      <td>4.125806</td>\n",
              "    </tr>\n",
              "    <tr>\n",
              "      <th>42</th>\n",
              "      <td>3.40</td>\n",
              "      <td>3.370626</td>\n",
              "    </tr>\n",
              "    <tr>\n",
              "      <th>43</th>\n",
              "      <td>2.79</td>\n",
              "      <td>2.757464</td>\n",
              "    </tr>\n",
              "    <tr>\n",
              "      <th>44</th>\n",
              "      <td>3.80</td>\n",
              "      <td>4.058905</td>\n",
              "    </tr>\n",
              "    <tr>\n",
              "      <th>45</th>\n",
              "      <td>2.67</td>\n",
              "      <td>3.250485</td>\n",
              "    </tr>\n",
              "    <tr>\n",
              "      <th>46</th>\n",
              "      <td>2.66</td>\n",
              "      <td>2.555624</td>\n",
              "    </tr>\n",
              "    <tr>\n",
              "      <th>47</th>\n",
              "      <td>2.77</td>\n",
              "      <td>3.015778</td>\n",
              "    </tr>\n",
              "    <tr>\n",
              "      <th>48</th>\n",
              "      <td>2.77</td>\n",
              "      <td>3.209313</td>\n",
              "    </tr>\n",
              "    <tr>\n",
              "      <th>49</th>\n",
              "      <td>4.10</td>\n",
              "      <td>4.103371</td>\n",
              "    </tr>\n",
              "    <tr>\n",
              "      <th>50</th>\n",
              "      <td>2.80</td>\n",
              "      <td>3.039006</td>\n",
              "    </tr>\n",
              "  </tbody>\n",
              "</table>\n",
              "</div>"
            ],
            "text/plain": [
              "    Actual  Predicted\n",
              "26    3.93   4.466829\n",
              "27    3.35   3.465785\n",
              "28    2.83   2.761412\n",
              "29    3.69   3.811405\n",
              "30    4.00   3.923698\n",
              "31    2.62   3.335413\n",
              "32    4.08   3.867186\n",
              "33    3.82   3.807783\n",
              "34    3.41   3.428949\n",
              "35    2.65   2.447093\n",
              "36    2.66   3.194275\n",
              "37    4.10   3.930553\n",
              "38    2.61   3.312579\n",
              "39    4.01   4.420534\n",
              "40    4.15   4.089502\n",
              "41    4.36   4.125806\n",
              "42    3.40   3.370626\n",
              "43    2.79   2.757464\n",
              "44    3.80   4.058905\n",
              "45    2.67   3.250485\n",
              "46    2.66   2.555624\n",
              "47    2.77   3.015778\n",
              "48    2.77   3.209313\n",
              "49    4.10   4.103371\n",
              "50    2.80   3.039006"
            ]
          },
          "metadata": {
            "tags": []
          },
          "execution_count": 26
        }
      ]
    },
    {
      "cell_type": "markdown",
      "metadata": {
        "id": "KlIkYo8Os-7u"
      },
      "source": [
        "### **RESULTANT PREDICTION FOR LINEAR REGRESSION**"
      ]
    },
    {
      "cell_type": "code",
      "metadata": {
        "id": "QB_Fx7BptiAJ",
        "colab": {
          "base_uri": "https://localhost:8080/",
          "height": 506
        },
        "outputId": "d2dfce59-7e6a-4006-badb-e05790d6480f"
      },
      "source": [
        "prediction = Lr_prediction\n",
        "valid = dataset[x.shape[0]:]\n",
        "valid['Predictions'] = prediction\n",
        "plt.figure(figsize=(12,6))\n",
        "plt.title('MODEL')\n",
        "plt.xlabel('Days')\n",
        "plt.ylabel('CLOSE PRICE')\n",
        "plt.plot(dataset['Close'])\n",
        "plt.plot(valid[['Close' , 'Predictions']])\n",
        "plt.legend(['Orig', 'Val', 'Pred'])\n",
        "plt.show()"
      ],
      "execution_count": null,
      "outputs": [
        {
          "output_type": "stream",
          "text": [
            "/usr/local/lib/python3.7/dist-packages/ipykernel_launcher.py:3: SettingWithCopyWarning: \n",
            "A value is trying to be set on a copy of a slice from a DataFrame.\n",
            "Try using .loc[row_indexer,col_indexer] = value instead\n",
            "\n",
            "See the caveats in the documentation: https://pandas.pydata.org/pandas-docs/stable/user_guide/indexing.html#returning-a-view-versus-a-copy\n",
            "  This is separate from the ipykernel package so we can avoid doing imports until\n"
          ],
          "name": "stderr"
        },
        {
          "output_type": "display_data",
          "data": {
            "image/png": "[encoded data removed]",
            "text/plain": [
              "<Figure size 864x432 with 1 Axes>"
            ]
          },
          "metadata": {
            "tags": [],
            "needs_background": "light"
          }
        }
      ]
    },
    {
      "cell_type": "code",
      "metadata": {
        "id": "o-XC9obFIiKG",
        "colab": {
          "base_uri": "https://localhost:8080/"
        },
        "outputId": "facf30a4-f87c-4a5a-ec03-bfa45031c00a"
      },
      "source": [
        "print('Mean Absolute Error:', metrics.mean_absolute_error(y_test, y_pred))\n",
        "print('Mean Squared Error:', metrics.mean_squared_error(y_test, y_pred))\n",
        "print('Root Mean Squared Error:', np.sqrt(metrics.mean_squared_error(y_test, y_pred)))\n",
        "  \n"
      ],
      "execution_count": null,
      "outputs": [
        {
          "output_type": "stream",
          "text": [
            "Mean Absolute Error: 0.2104397222006267\n",
            "Mean Squared Error: 0.0742867242082791\n",
            "Root Mean Squared Error: 0.2725559102427961\n"
          ],
          "name": "stdout"
        }
      ]
    },
    {
      "cell_type": "code",
      "metadata": {
        "id": "TKv21QE1KFBB",
        "colab": {
          "base_uri": "https://localhost:8080/",
          "height": 281
        },
        "outputId": "c657cc7b-4239-4028-dde4-99928b6adf28"
      },
      "source": [
        "import math\n",
        "graph =result.tail(10)\n",
        "graph.plot(kind='bar')"
      ],
      "execution_count": null,
      "outputs": [
        {
          "output_type": "execute_result",
          "data": {
            "text/plain": [
              "<matplotlib.axes._subplots.AxesSubplot at 0x7f2051137390>"
            ]
          },
          "metadata": {
            "tags": []
          },
          "execution_count": 29
        },
        {
          "output_type": "display_data",
          "data": {
            "image/png": "[encoded data removed]",
            "text/plain": [
              "<Figure size 432x288 with 1 Axes>"
            ]
          },
          "metadata": {
            "tags": [],
            "needs_background": "light"
          }
        }
      ]
    }
  ]
}